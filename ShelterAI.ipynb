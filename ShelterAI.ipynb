{
  "nbformat": 4,
  "nbformat_minor": 0,
  "metadata": {
    "colab": {
      "provenance": [],
      "authorship_tag": "ABX9TyObnS8TRRglPCeY5Ockijat",
      "include_colab_link": true
    },
    "kernelspec": {
      "name": "python3",
      "display_name": "Python 3"
    },
    "language_info": {
      "name": "python"
    }
  },
  "cells": [
    {
      "cell_type": "markdown",
      "metadata": {
        "id": "view-in-github",
        "colab_type": "text"
      },
      "source": [
        "<a href=\"https://colab.research.google.com/github/Jeffbr7/Projeto_Imersao_IA/blob/main/ShelterAI.ipynb\" target=\"_parent\"><img src=\"https://colab.research.google.com/assets/colab-badge.svg\" alt=\"Open In Colab\"/></a>"
      ]
    },
    {
      "cell_type": "markdown",
      "source": [
        "Instalando SDK do Google"
      ],
      "metadata": {
        "id": "7d3GB_3nQPRC"
      }
    },
    {
      "cell_type": "code",
      "execution_count": 6,
      "metadata": {
        "id": "F6O-hK0pb0kj"
      },
      "outputs": [],
      "source": [
        "# -q é para rodar de forma quiet \"silenciosa\" e o -U é para update para a última versão da instalação\n",
        "!pip install -q -U google-generativeai"
      ]
    },
    {
      "cell_type": "markdown",
      "source": [
        "Importar a biblioteca do Python"
      ],
      "metadata": {
        "id": "Yn2X7_oEP_DQ"
      }
    },
    {
      "cell_type": "code",
      "source": [
        "import google.generativeai as genai\n",
        "\n",
        "from google.colab import userdata\n",
        "GOOGLE_API_KEY = userdata.get('SECRET_KEY')\n",
        "genai.configure(api_key=GOOGLE_API_KEY)"
      ],
      "metadata": {
        "id": "5W2sQzQzMQ7L"
      },
      "execution_count": 7,
      "outputs": []
    },
    {
      "cell_type": "markdown",
      "source": [
        "Listar modelos disponíveis"
      ],
      "metadata": {
        "id": "ko_GRYPoQGa7"
      }
    },
    {
      "cell_type": "code",
      "source": [
        "for m in genai.list_models():\n",
        "  if 'generateContent' in m.supported_generation_methods:\n",
        "    print(m.name)\n",
        "  # após fazer o projeto testar o prompt nas versões experimentais como a 001\n",
        "  # utilizar as versões vision para usar imagens videos e figuras"
      ],
      "metadata": {
        "colab": {
          "base_uri": "https://localhost:8080/",
          "height": 145
        },
        "id": "Noi3ogwBTLo4",
        "outputId": "760e5911-f361-48da-a2b6-d7956ac92f3f"
      },
      "execution_count": 8,
      "outputs": [
        {
          "output_type": "stream",
          "name": "stdout",
          "text": [
            "models/gemini-1.0-pro\n",
            "models/gemini-1.0-pro-001\n",
            "models/gemini-1.0-pro-latest\n",
            "models/gemini-1.0-pro-vision-latest\n",
            "models/gemini-1.5-pro-latest\n",
            "models/gemini-pro\n",
            "models/gemini-pro-vision\n"
          ]
        }
      ]
    },
    {
      "cell_type": "markdown",
      "source": [
        "PARÂMETROS DE CONFIGURAÇÃO E SEGURANÇA"
      ],
      "metadata": {
        "id": "uIHZTJjYTBvt"
      }
    },
    {
      "cell_type": "code",
      "source": [
        "generation_config = {\n",
        "    \"candidate_count\": 1,\n",
        "     \"temperature\": 1,\n",
        "}\n",
        "\n",
        "safety_settings=[\n",
        "  {\n",
        "    \"category\": \"HARM_CATEGORY_HARASSMENT\",\n",
        "    \"threshold\": \"BLOCK_MEDIUM_AND_ABOVE\"\n",
        "  },\n",
        "  {\n",
        "    \"category\": \"HARM_CATEGORY_HATE_SPEECH\",\n",
        "    \"threshold\": \"BLOCK_ONLY_HIGH\"\n",
        "  },\n",
        "  {\n",
        "    \"category\": \"HARM_CATEGORY_SEXUALLY_EXPLICIT\",\n",
        "    \"threshold\": \"BLOCK_MEDIUM_AND_ABOVE\"\n",
        "  },\n",
        "  {\n",
        "    \"category\": \"HARM_CATEGORY_DANGEROUS_CONTENT\",\n",
        "    \"threshold\": \"BLOCK_MEDIUM_AND_ABOVE\"\n",
        "  },\n",
        "]\n",
        "system_instruction =  \"Você é um funcionário a serviço do site: https://sosenchentes.rs.gov.br provedor de informações às vítimas de uma enchente que acontece neste momento no estado do Rio Grande do Sul/Brasil. Você prioriza todas as informações a serem apresentadas de fontes disponíveis no site  https://sosenchentes.rs.gov.br e seus subdomínios. Você sabe que os últimos avisos e alertas para o Rio Grande do Sul estão localizados na página https://defesacivil.rs.gov.br e seus subdomínios\"\n"
      ],
      "metadata": {
        "id": "4Y2mmromQFSe"
      },
      "execution_count": 9,
      "outputs": []
    },
    {
      "cell_type": "markdown",
      "source": [
        "INICIALIZANDO O MODELO"
      ],
      "metadata": {
        "id": "oYYcJ_6-al8V"
      }
    },
    {
      "cell_type": "code",
      "source": [
        "model = genai.GenerativeModel(model_name='gemini-1.5-pro-latest',\n",
        "                              generation_config=generation_config,\n",
        "                              system_instruction=system_instruction,\n",
        "                              safety_settings=safety_settings,)"
      ],
      "metadata": {
        "id": "gO7DSutKaorD"
      },
      "execution_count": 10,
      "outputs": []
    },
    {
      "cell_type": "code",
      "source": [
        "chat = model.start_chat(history=[])"
      ],
      "metadata": {
        "id": "eUK11FvkbY5K"
      },
      "execution_count": 23,
      "outputs": []
    },
    {
      "cell_type": "code",
      "source": [
        "# Importar bibliotecas\n",
        "import datetime\n",
        "\n",
        "# Dados de exemplo (substituir por banco de dados real)\n",
        "pessoas = {\n",
        "    1: {\"nome\": \"João Silva\", \"idade\": 32, \"necessidades\": \"Medicamentos\", \"abrigo\": 2},\n",
        "    2: {\"nome\": \"Maria Oliveira\", \"idade\": 65, \"necessidades\": \"Alimentos\", \"abrigo\": 1},\n",
        "    3: {\"nome\": \"Pedro Souza\", \"idade\": 10, \"necessidades\": \"Roupas\", \"abrigo\": 2},\n",
        "}\n",
        "\n",
        "estoque = {\n",
        "    1: {\"Água\": 100, \"Roupas\": 50, \"Comida\": 20, \"Higiene\": 15},\n",
        "    2: {\"Água\": 50, \"Roupas\": 25, \"Comida\": 10, \"Higiene\": 8},\n",
        "}\n",
        "\n",
        "pedidos = {\n",
        "    1: {\"abrigo\": 1, \"item\": \"Água\", \"quantidade\": 20, \"data\": datetime.datetime.now()},\n",
        "    2: {\"abrigo\": 2, \"item\": \"Roupas\", \"quantidade\": 10, \"data\": datetime.datetime.now()},\n",
        "}\n"
      ],
      "metadata": {
        "id": "pDxWK_Ojyb1f"
      },
      "execution_count": 14,
      "outputs": []
    },
    {
      "cell_type": "code",
      "source": [
        "\n",
        "# Função para consultar informações de uma pessoa\n",
        "def consultar_pessoa(id_pessoa):\n",
        "    if id_pessoa not in pessoas:\n",
        "        print(f\"Pessoa com ID {id_pessoa} não encontrada!\")\n",
        "        return\n",
        "    pessoa = pessoas[id_pessoa]\n",
        "    print(f\"Nome: {pessoa['nome']}\")\n",
        "    print(f\"Idade: {pessoa['idade']}\")\n",
        "    print(f\"Necessidades: {pessoa['necessidades']}\")\n",
        "    print(f\"Abrigo: {pessoa['abrigo']}\")\n",
        "\n"
      ],
      "metadata": {
        "id": "5LHEQZjfzgpj"
      },
      "execution_count": 15,
      "outputs": []
    },
    {
      "cell_type": "code",
      "source": [
        "print(consultar_pessoa(3))\n"
      ],
      "metadata": {
        "id": "rMZcLwefzruI"
      },
      "execution_count": null,
      "outputs": []
    },
    {
      "cell_type": "code",
      "source": [
        "# Função para consultar estoque de um abrigo\n",
        "def consultar_estoque(id_abrigo):\n",
        "    if id_abrigo not in estoque:\n",
        "        print(f\"Abrigo com ID {id_abrigo} não encontrado!\")\n",
        "        return\n",
        "    abrigo_estoque = estoque[id_abrigo]\n",
        "    for item, quantidade in abrigo_estoque.items():\n",
        "        print(f\"{item}: {quantidade}\")\n"
      ],
      "metadata": {
        "id": "yh4aaxYgziA1"
      },
      "execution_count": null,
      "outputs": []
    },
    {
      "cell_type": "code",
      "source": [
        "print(consultar_estoque(1))"
      ],
      "metadata": {
        "id": "7cAeT7Pn0HXn"
      },
      "execution_count": null,
      "outputs": []
    },
    {
      "cell_type": "code",
      "source": [
        "\n",
        "# Função para registrar pedido de item\n",
        "def registrar_pedido(id_abrigo, item, quantidade):\n",
        "    if id_abrigo not in estoque:\n",
        "        print(f\"Abrigo com ID {id_abrigo} não encontrado!\")\n",
        "        return\n",
        "    if item not in estoque[id_abrigo]:\n",
        "        print(f\"Item '{item}' não disponível no abrigo {id_abrigo}!\")\n",
        "        return\n",
        "    novo_pedido = {\"abrigo\": id_abrigo, \"item\": item, \"quantidade\": quantidade, \"data\": datetime.datetime.now()}\n",
        "    pedidos.append(novo_pedido)\n",
        "    print(f\"Pedido de {quantidade} {estoque[id_abrigo][item]['unidade']} de '{item}' para o abrigo {id_abrigo} registrado com sucesso!\")\n"
      ],
      "metadata": {
        "id": "3bovoT8Ezh4a"
      },
      "execution_count": null,
      "outputs": []
    },
    {
      "cell_type": "code",
      "source": [
        "# Função para consultar status de pedido\n",
        "def consultar_pedido(id_pedido):\n",
        "    if id_pedido not in pedidos:\n",
        "        print(f\"Pedido com ID {id_pedido} não encontrado!\")\n",
        "        return\n",
        "    pedido = pedidos[id_pedido]\n",
        "    print(f\"Abrigo: {pedido['abrigo']}\")\n",
        "    print(f\"Item: {pedido['item']}\")\n",
        "    print(f\"Quantidade: {pedido['quantidade']} {estoque[pedido['abrigo']][pedido['item']]['unidade']}\")\n",
        "    print(f\"Data da Solicitação: {pedido['data'].strftime('%d/%m/%Y %H:%M')}\")"
      ],
      "metadata": {
        "id": "4-E0cO6EzhvG"
      },
      "execution_count": null,
      "outputs": []
    },
    {
      "cell_type": "code",
      "source": [
        "#Melhorando a visualização\n",
        "#Código disponível em https://ai.google.dev/tutorials/python_quickstart#import_packages\n",
        "import textwrap\n",
        "from IPython.display import display\n",
        "from IPython.display import Markdown\n",
        "\n",
        "def to_markdown(text):\n",
        "  text = text.replace('•', '  *')\n",
        "  return Markdown(textwrap.indent(text, '> ', predicate=lambda _: True))\n",
        "\n",
        "#Imprimindo o histórico\n",
        "for message in chat.history:\n",
        "  display(to_markdown(f'**{message.role}**: {message.parts[0].text}'))\n",
        "  print('-------------------------------------------')"
      ],
      "metadata": {
        "id": "c38YRPekqYwM"
      },
      "execution_count": 12,
      "outputs": []
    },
    {
      "cell_type": "code",
      "source": [
        "prompt = input(\"Esperando prompt:\")\n",
        "while prompt != \"fim\":\n",
        "  response = chat.send_message(prompt)\n",
        "  print(\"Resposta: \",response.text, \"\\n\")\n",
        "  prompt = input(\"Esperando prompt:\")\n",
        "\n",
        "\n"
      ],
      "metadata": {
        "id": "swEONaJElg61",
        "colab": {
          "base_uri": "https://localhost:8080/",
          "height": 372
        },
        "outputId": "1ab82670-48a2-4fb5-d5c1-e3efe249a30e"
      },
      "execution_count": 24,
      "outputs": [
        {
          "output_type": "error",
          "ename": "KeyboardInterrupt",
          "evalue": "Interrupted by user",
          "traceback": [
            "\u001b[0;31m---------------------------------------------------------------------------\u001b[0m",
            "\u001b[0;31mKeyboardInterrupt\u001b[0m                         Traceback (most recent call last)",
            "\u001b[0;32m<ipython-input-24-2227c07f4bcd>\u001b[0m in \u001b[0;36m<cell line: 1>\u001b[0;34m()\u001b[0m\n\u001b[0;32m----> 1\u001b[0;31m \u001b[0mprompt\u001b[0m \u001b[0;34m=\u001b[0m \u001b[0minput\u001b[0m\u001b[0;34m(\u001b[0m\u001b[0;34m\"Esperando prompt:\"\u001b[0m\u001b[0;34m)\u001b[0m\u001b[0;34m\u001b[0m\u001b[0;34m\u001b[0m\u001b[0m\n\u001b[0m\u001b[1;32m      2\u001b[0m \u001b[0;32mwhile\u001b[0m \u001b[0mprompt\u001b[0m \u001b[0;34m!=\u001b[0m \u001b[0;34m\"fim\"\u001b[0m\u001b[0;34m:\u001b[0m\u001b[0;34m\u001b[0m\u001b[0;34m\u001b[0m\u001b[0m\n\u001b[1;32m      3\u001b[0m   \u001b[0mresponse\u001b[0m \u001b[0;34m=\u001b[0m \u001b[0mchat\u001b[0m\u001b[0;34m.\u001b[0m\u001b[0msend_message\u001b[0m\u001b[0;34m(\u001b[0m\u001b[0mprompt\u001b[0m\u001b[0;34m)\u001b[0m\u001b[0;34m\u001b[0m\u001b[0;34m\u001b[0m\u001b[0m\n\u001b[1;32m      4\u001b[0m   \u001b[0mprint\u001b[0m\u001b[0;34m(\u001b[0m\u001b[0;34m\"Resposta: \"\u001b[0m\u001b[0;34m,\u001b[0m\u001b[0mresponse\u001b[0m\u001b[0;34m.\u001b[0m\u001b[0mtext\u001b[0m\u001b[0;34m,\u001b[0m \u001b[0;34m\"\\n\"\u001b[0m\u001b[0;34m)\u001b[0m\u001b[0;34m\u001b[0m\u001b[0;34m\u001b[0m\u001b[0m\n\u001b[1;32m      5\u001b[0m   \u001b[0mprompt\u001b[0m \u001b[0;34m=\u001b[0m \u001b[0minput\u001b[0m\u001b[0;34m(\u001b[0m\u001b[0;34m\"Esperando prompt:\"\u001b[0m\u001b[0;34m)\u001b[0m\u001b[0;34m\u001b[0m\u001b[0;34m\u001b[0m\u001b[0m\n",
            "\u001b[0;32m/usr/local/lib/python3.10/dist-packages/ipykernel/kernelbase.py\u001b[0m in \u001b[0;36mraw_input\u001b[0;34m(self, prompt)\u001b[0m\n\u001b[1;32m    849\u001b[0m                 \u001b[0;34m\"raw_input was called, but this frontend does not support input requests.\"\u001b[0m\u001b[0;34m\u001b[0m\u001b[0;34m\u001b[0m\u001b[0m\n\u001b[1;32m    850\u001b[0m             )\n\u001b[0;32m--> 851\u001b[0;31m         return self._input_request(str(prompt),\n\u001b[0m\u001b[1;32m    852\u001b[0m             \u001b[0mself\u001b[0m\u001b[0;34m.\u001b[0m\u001b[0m_parent_ident\u001b[0m\u001b[0;34m,\u001b[0m\u001b[0;34m\u001b[0m\u001b[0;34m\u001b[0m\u001b[0m\n\u001b[1;32m    853\u001b[0m             \u001b[0mself\u001b[0m\u001b[0;34m.\u001b[0m\u001b[0m_parent_header\u001b[0m\u001b[0;34m,\u001b[0m\u001b[0;34m\u001b[0m\u001b[0;34m\u001b[0m\u001b[0m\n",
            "\u001b[0;32m/usr/local/lib/python3.10/dist-packages/ipykernel/kernelbase.py\u001b[0m in \u001b[0;36m_input_request\u001b[0;34m(self, prompt, ident, parent, password)\u001b[0m\n\u001b[1;32m    893\u001b[0m             \u001b[0;32mexcept\u001b[0m \u001b[0mKeyboardInterrupt\u001b[0m\u001b[0;34m:\u001b[0m\u001b[0;34m\u001b[0m\u001b[0;34m\u001b[0m\u001b[0m\n\u001b[1;32m    894\u001b[0m                 \u001b[0;31m# re-raise KeyboardInterrupt, to truncate traceback\u001b[0m\u001b[0;34m\u001b[0m\u001b[0;34m\u001b[0m\u001b[0m\n\u001b[0;32m--> 895\u001b[0;31m                 \u001b[0;32mraise\u001b[0m \u001b[0mKeyboardInterrupt\u001b[0m\u001b[0;34m(\u001b[0m\u001b[0;34m\"Interrupted by user\"\u001b[0m\u001b[0;34m)\u001b[0m \u001b[0;32mfrom\u001b[0m \u001b[0;32mNone\u001b[0m\u001b[0;34m\u001b[0m\u001b[0;34m\u001b[0m\u001b[0m\n\u001b[0m\u001b[1;32m    896\u001b[0m             \u001b[0;32mexcept\u001b[0m \u001b[0mException\u001b[0m \u001b[0;32mas\u001b[0m \u001b[0me\u001b[0m\u001b[0;34m:\u001b[0m\u001b[0;34m\u001b[0m\u001b[0;34m\u001b[0m\u001b[0m\n\u001b[1;32m    897\u001b[0m                 \u001b[0mself\u001b[0m\u001b[0;34m.\u001b[0m\u001b[0mlog\u001b[0m\u001b[0;34m.\u001b[0m\u001b[0mwarning\u001b[0m\u001b[0;34m(\u001b[0m\u001b[0;34m\"Invalid Message:\"\u001b[0m\u001b[0;34m,\u001b[0m \u001b[0mexc_info\u001b[0m\u001b[0;34m=\u001b[0m\u001b[0;32mTrue\u001b[0m\u001b[0;34m)\u001b[0m\u001b[0;34m\u001b[0m\u001b[0;34m\u001b[0m\u001b[0m\n",
            "\u001b[0;31mKeyboardInterrupt\u001b[0m: Interrupted by user"
          ]
        }
      ]
    }
  ]
}